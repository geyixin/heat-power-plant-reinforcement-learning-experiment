{
 "cells": [
  {
   "cell_type": "code",
   "execution_count": 1,
   "metadata": {
    "collapsed": false
   },
   "outputs": [
    {
     "name": "stderr",
     "output_type": "stream",
     "text": [
      "Using TensorFlow backend.\n"
     ]
    }
   ],
   "source": [
    "import numpy as np\n",
    "from env.chp import CombinedHeatPowerPlant\n",
    "from agent.dqn import DoubleQLearner\n",
    "import csv"
   ]
  },
  {
   "cell_type": "code",
   "execution_count": 2,
   "metadata": {
    "collapsed": true
   },
   "outputs": [],
   "source": [
    "EPISODES = 10  # naive episode inclusive\n",
    "EPISODE_LENGTH = 336  # number of half hour periods per episode\n",
    "LAG = 1  # positive = see future.  negative = can't see present\n",
    "RANDOM_TS = True\n",
    "GEN_OUTPUTS = 100  # generate outputs every n episodes\n",
    "RUN_NAME = 'EPISODE_LENGTH_' + str(EPISODE_LENGTH)"
   ]
  },
  {
   "cell_type": "code",
   "execution_count": null,
   "metadata": {
    "collapsed": false
   },
   "outputs": [],
   "source": [
    "env = CombinedHeatPowerPlant(episode_length=EPISODE_LENGTH, lag=LAG, random_ts=RANDOM_TS, verbose=1)"
   ]
  },
  {
   "cell_type": "code",
   "execution_count": null,
   "metadata": {
    "collapsed": false
   },
   "outputs": [
    {
     "name": "stdout",
     "output_type": "stream",
     "text": [
      "Q1 function being created\n",
      "Q2 function already exists\n",
      "memory.pickle already exists\n",
      "network_memory.pickle already exists\n",
      "info.pickle already exists\n"
     ]
    }
   ],
   "source": [
    "agent = DoubleQLearner(env, verbose=1, device=0, run_name=RUN_NAME)"
   ]
  },
  {
   "cell_type": "code",
   "execution_count": null,
   "metadata": {
    "collapsed": false
   },
   "outputs": [],
   "source": [
    "# Running naive episode\n",
    "episode = 1  # naive policy\n",
    "agent.policy_ = 0\n",
    "agent.single_episode(episode)"
   ]
  },
  {
   "cell_type": "code",
   "execution_count": null,
   "metadata": {
    "collapsed": false
   },
   "outputs": [],
   "source": [
    "# Running e-greedy episode\n",
    "agent.policy_ = 1  # e-greedy policy\n",
    "e_greedy_episodes = np.arange(2, EPISODES + 1)\n",
    "for episode in e_greedy_episodes:\n",
    "    agent.single_episode(episode)"
   ]
  },
  {
   "cell_type": "code",
   "execution_count": null,
   "metadata": {
    "collapsed": false
   },
   "outputs": [],
   "source": [
    "# Running greedy episode\n",
    "episode += 1\n",
    "agent.epsilon = 0  # greedy\n",
    "agent.single_episode(episode)"
   ]
  },
  {
   "cell_type": "code",
   "execution_count": null,
   "metadata": {
    "collapsed": true
   },
   "outputs": [],
   "source": [
    "production_env = CombinedHeatPowerPlant(episode_length=5000, lag=1, random_ts=False, verbose=1)"
   ]
  },
  {
   "cell_type": "code",
   "execution_count": null,
   "metadata": {
    "collapsed": false
   },
   "outputs": [],
   "source": [
    "len(production_env.actual_state)"
   ]
  },
  {
   "cell_type": "code",
   "execution_count": null,
   "metadata": {
    "collapsed": false
   },
   "outputs": [],
   "source": [
    "csv_file = open('results_more_info.csv', 'wb')\n",
    "fieldnames = [\n",
    "    'Timestamp', 'Settlement period',\n",
    "    'HGH','LGH','Cooling',\n",
    "    'Electrical','Ambient temperature',\n",
    "    'Gas price','Import electricity price','Export electricity price',\n",
    "    'GT 1 Load', 'GT 2 Load', 'GT 1 Cmd', 'GT 2 Cmd', 'Electricty Generated']\n",
    "writer = csv.DictWriter(csv_file, fieldnames=fieldnames)"
   ]
  },
  {
   "cell_type": "code",
   "execution_count": null,
   "metadata": {
    "collapsed": true
   },
   "outputs": [],
   "source": [
    "writer.writeheader()"
   ]
  },
  {
   "cell_type": "code",
   "execution_count": null,
   "metadata": {
    "collapsed": false
   },
   "outputs": [],
   "source": [
    "production_env.reset()\n",
    "done = False\n",
    "index = 0\n",
    "agent.epsilon = 0\n",
    "while done is not True:\n",
    "    state = production_env.state\n",
    "    action, state_action, choice = agent.policy(state)\n",
    "    \n",
    "    # Generate Info Row\n",
    "    current_state = production_env.state.to_dict()\n",
    "    current_loads = production_env.asset_states()\n",
    "    current_state['Index'] = index\n",
    "    current_state['GT 1 Load'] = current_loads['GT 1'][0]['Status']\n",
    "    current_state['GT 2 Load'] = current_loads['GT 2'][0]['Status']\n",
    "    current_state['GT 1 Cmd'] = action[0]\n",
    "    current_state['GT 2 Cmd'] = action[1]\n",
    "    current_state['Electricty Generated'] = env_info[-1][1]\n",
    "    \n",
    "    writer.writerow(current_state)\n",
    "    next_state, reward, done, env_info = production_env.step(action)\n",
    "    index += 1"
   ]
  },
  {
   "cell_type": "code",
   "execution_count": null,
   "metadata": {
    "collapsed": false
   },
   "outputs": [],
   "source": [
    "production_env.reset()"
   ]
  },
  {
   "cell_type": "code",
   "execution_count": null,
   "metadata": {
    "collapsed": false
   },
   "outputs": [],
   "source": [
    "action, state_action, choice = agent.policy(state)"
   ]
  },
  {
   "cell_type": "code",
   "execution_count": null,
   "metadata": {
    "collapsed": true
   },
   "outputs": [],
   "source": [
    "next_state, reward, done, env_info = production_env.step(action)"
   ]
  },
  {
   "cell_type": "code",
   "execution_count": null,
   "metadata": {
    "collapsed": false
   },
   "outputs": [],
   "source": [
    "env_info"
   ]
  },
  {
   "cell_type": "code",
   "execution_count": null,
   "metadata": {
    "collapsed": true
   },
   "outputs": [],
   "source": []
  }
 ],
 "metadata": {
  "kernelspec": {
   "display_name": "Python 2",
   "language": "python",
   "name": "python2"
  },
  "language_info": {
   "codemirror_mode": {
    "name": "ipython",
    "version": 2
   },
   "file_extension": ".py",
   "mimetype": "text/x-python",
   "name": "python",
   "nbconvert_exporter": "python",
   "pygments_lexer": "ipython2",
   "version": "2.7.13"
  }
 },
 "nbformat": 4,
 "nbformat_minor": 2
}
